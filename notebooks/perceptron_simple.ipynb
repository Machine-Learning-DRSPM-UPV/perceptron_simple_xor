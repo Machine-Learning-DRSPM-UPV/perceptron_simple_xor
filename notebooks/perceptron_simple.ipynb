{
 "cells": [
  {
   "cell_type": "code",
   "execution_count": 1,
   "metadata": {
    "collapsed": true
   },
   "outputs": [],
   "source": [
    "import numpy as np"
   ]
  },
  {
   "cell_type": "code",
   "execution_count": 5,
   "outputs": [
    {
     "name": "stdout",
     "output_type": "stream",
     "text": [
      "(4, 2)\n",
      "(4,)\n",
      "[-1 -1]  :  -1\n",
      "[-1  1]  :  1\n",
      "[ 1 -1]  :  1\n",
      "[1 1]  :  -1\n"
     ]
    }
   ],
   "source": [
    "X = np.array([[-1, -1],\n",
    "     [-1, 1],\n",
    "     [1, -1],\n",
    "     [1, 1]])\n",
    "\n",
    "print(X.shape)\n",
    "\n",
    "Y = np.array([-1, 1, 1, -1])\n",
    "print(Y.shape)\n",
    "\n",
    "for x, y in zip(X, Y):\n",
    "    print(x, \" : \", y)"
   ],
   "metadata": {
    "collapsed": false,
    "pycharm": {
     "name": "#%%\n"
    }
   }
  },
  {
   "cell_type": "code",
   "execution_count": 13,
   "outputs": [
    {
     "data": {
      "text/plain": "array([ 0.00496714, -0.00138264,  0.00647689])"
     },
     "execution_count": 13,
     "metadata": {},
     "output_type": "execute_result"
    }
   ],
   "source": [
    "rgen = np.random.RandomState(42)\n",
    "\n",
    "eta = 0.1  # tasa de aprendizaje\n",
    "w = rgen.normal(loc=0.0, scale=0.01, size=X.shape[1] + 1)\n",
    "w"
   ],
   "metadata": {
    "collapsed": false,
    "pycharm": {
     "name": "#%%\n"
    }
   }
  },
  {
   "cell_type": "code",
   "execution_count": 14,
   "outputs": [],
   "source": [
    "errors = []\n"
   ],
   "metadata": {
    "collapsed": false,
    "pycharm": {
     "name": "#%%\n"
    }
   }
  },
  {
   "cell_type": "code",
   "execution_count": 17,
   "outputs": [
    {
     "name": "stdout",
     "output_type": "stream",
     "text": [
      "[-1 -1]  :  -1\n",
      "[-1  1]  :  1\n",
      "[ 1 -1]  :  1\n",
      "[1 1]  :  -1\n",
      "--------------------\n",
      "[-1 -1]  :  -1\n",
      "[-1  1]  :  1\n",
      "[ 1 -1]  :  1\n",
      "[1 1]  :  -1\n",
      "--------------------\n",
      "[-1 -1]  :  -1\n",
      "[-1  1]  :  1\n",
      "[ 1 -1]  :  1\n",
      "[1 1]  :  -1\n",
      "--------------------\n",
      "[-1 -1]  :  -1\n",
      "[-1  1]  :  1\n",
      "[ 1 -1]  :  1\n",
      "[1 1]  :  -1\n",
      "--------------------\n",
      "[-1 -1]  :  -1\n",
      "[-1  1]  :  1\n",
      "[ 1 -1]  :  1\n",
      "[1 1]  :  -1\n",
      "--------------------\n"
     ]
    }
   ],
   "source": [
    "for _ in range(5):\n",
    "    errors = 0\n",
    "    for xi, target in zip(X, Y):\n",
    "\n",
    "    print(\"-\"*20)\n"
   ],
   "metadata": {
    "collapsed": false,
    "pycharm": {
     "name": "#%%\n"
    }
   }
  },
  {
   "cell_type": "code",
   "execution_count": null,
   "outputs": [],
   "source": [],
   "metadata": {
    "collapsed": false,
    "pycharm": {
     "name": "#%%\n"
    }
   }
  }
 ],
 "metadata": {
  "kernelspec": {
   "display_name": "Python 3",
   "language": "python",
   "name": "python3"
  },
  "language_info": {
   "codemirror_mode": {
    "name": "ipython",
    "version": 2
   },
   "file_extension": ".py",
   "mimetype": "text/x-python",
   "name": "python",
   "nbconvert_exporter": "python",
   "pygments_lexer": "ipython2",
   "version": "2.7.6"
  }
 },
 "nbformat": 4,
 "nbformat_minor": 0
}