{
 "cells": [
  {
   "cell_type": "code",
   "execution_count": 7,
   "metadata": {
    "collapsed": true
   },
   "outputs": [],
   "source": [
    "import numpy as np"
   ]
  },
  {
   "cell_type": "code",
   "execution_count": 8,
   "outputs": [
    {
     "name": "stdout",
     "output_type": "stream",
     "text": [
      "(4, 2)\n",
      "(4,)\n",
      "[-1 -1]  :  -1\n",
      "[-1  1]  :  1\n",
      "[ 1 -1]  :  1\n",
      "[1 1]  :  1\n"
     ]
    }
   ],
   "source": [
    "X = np.array([[-1, -1],\n",
    "     [-1, 1],\n",
    "     [1, -1],\n",
    "     [1, 1]])\n",
    "\n",
    "print(X.shape)\n",
    "\n",
    "Y = np.array([-1, 1, 1, 1])\n",
    "print(Y.shape)\n",
    "\n",
    "for x, y in zip(X, Y):\n",
    "    print(x, \" : \", y)"
   ],
   "metadata": {
    "collapsed": false,
    "pycharm": {
     "name": "#%%\n"
    }
   }
  },
  {
   "cell_type": "code",
   "execution_count": 9,
   "outputs": [
    {
     "data": {
      "text/plain": "array([ 0.00496714, -0.00138264,  0.00647689])"
     },
     "execution_count": 9,
     "metadata": {},
     "output_type": "execute_result"
    }
   ],
   "source": [
    "rgen = np.random.RandomState(42)\n",
    "\n",
    "eta = 0.1  # tasa de aprendizaje\n",
    "w = rgen.normal(loc=0.0, scale=0.01, size=X.shape[1] + 1)\n",
    "w"
   ],
   "metadata": {
    "collapsed": false,
    "pycharm": {
     "name": "#%%\n"
    }
   }
  },
  {
   "cell_type": "code",
   "execution_count": 10,
   "outputs": [],
   "source": [
    "errors = []\n"
   ],
   "metadata": {
    "collapsed": false,
    "pycharm": {
     "name": "#%%\n"
    }
   }
  },
  {
   "cell_type": "code",
   "execution_count": 11,
   "outputs": [
    {
     "name": "stdout",
     "output_type": "stream",
     "text": [
      "[-1 -1]  :  -1\n",
      "[-1  1]  :  1\n",
      "[ 1 -1]  :  -1\n",
      "[1 1]  :  1\n"
     ]
    }
   ],
   "source": [
    "def z(x):\n",
    "    global w\n",
    "\n",
    "    # print(\"x=\", x)\n",
    "\n",
    "    z_dot = np.dot(w[1:], x) + w[0]\n",
    "    # z_sum = w[0]*1 + w[1] * x[0] + w[2]*x[1]\n",
    "    return z_dot\n",
    "\n",
    "\n",
    "def predict(x):\n",
    "\n",
    "    # if z(x) >= 0.0:\n",
    "    #     return 1\n",
    "    # else:\n",
    "    #     return -1\n",
    "    return np.where(z(x) >= 0.0, 1, -1)\n",
    "\n",
    "for x in X:\n",
    "    print(x, \" : \", predict(x))"
   ],
   "metadata": {
    "collapsed": false,
    "pycharm": {
     "name": "#%%\n"
    }
   }
  },
  {
   "cell_type": "code",
   "execution_count": 12,
   "outputs": [
    {
     "name": "stdout",
     "output_type": "stream",
     "text": [
      "[ 0.00496714 -0.00138264  0.00647689]\n",
      "[ 0.00496714 -0.00138264  0.00647689]\n",
      "[ 0.20496714  0.19861736 -0.19352311]\n",
      "[ 0.20496714  0.19861736 -0.19352311]\n",
      "--------------------\n",
      "[0.00496714 0.39861736 0.00647689]\n",
      "[0.20496714 0.19861736 0.20647689]\n",
      "[0.20496714 0.19861736 0.20647689]\n",
      "[0.20496714 0.19861736 0.20647689]\n",
      "--------------------\n",
      "[0.20496714 0.19861736 0.20647689]\n",
      "[0.20496714 0.19861736 0.20647689]\n",
      "[0.20496714 0.19861736 0.20647689]\n",
      "[0.20496714 0.19861736 0.20647689]\n",
      "--------------------\n",
      "[0.20496714 0.19861736 0.20647689]\n",
      "[0.20496714 0.19861736 0.20647689]\n",
      "[0.20496714 0.19861736 0.20647689]\n",
      "[0.20496714 0.19861736 0.20647689]\n",
      "--------------------\n",
      "[0.20496714 0.19861736 0.20647689]\n",
      "[0.20496714 0.19861736 0.20647689]\n",
      "[0.20496714 0.19861736 0.20647689]\n",
      "[0.20496714 0.19861736 0.20647689]\n",
      "--------------------\n",
      "[0.20496714 0.19861736 0.20647689]\n",
      "[0.20496714 0.19861736 0.20647689]\n",
      "[0.20496714 0.19861736 0.20647689]\n",
      "[0.20496714 0.19861736 0.20647689]\n",
      "--------------------\n",
      "[0.20496714 0.19861736 0.20647689]\n",
      "[0.20496714 0.19861736 0.20647689]\n",
      "[0.20496714 0.19861736 0.20647689]\n",
      "[0.20496714 0.19861736 0.20647689]\n",
      "--------------------\n",
      "[0.20496714 0.19861736 0.20647689]\n",
      "[0.20496714 0.19861736 0.20647689]\n",
      "[0.20496714 0.19861736 0.20647689]\n",
      "[0.20496714 0.19861736 0.20647689]\n",
      "--------------------\n",
      "[0.20496714 0.19861736 0.20647689]\n",
      "[0.20496714 0.19861736 0.20647689]\n",
      "[0.20496714 0.19861736 0.20647689]\n",
      "[0.20496714 0.19861736 0.20647689]\n",
      "--------------------\n",
      "[0.20496714 0.19861736 0.20647689]\n",
      "[0.20496714 0.19861736 0.20647689]\n",
      "[0.20496714 0.19861736 0.20647689]\n",
      "[0.20496714 0.19861736 0.20647689]\n",
      "--------------------\n",
      "[-1 -1]  :  -1\n",
      "[-1  1]  :  1\n",
      "[ 1 -1]  :  1\n",
      "[1 1]  :  1\n"
     ]
    }
   ],
   "source": [
    "for _ in range(10):\n",
    "    err = 0\n",
    "    for xi, target in zip(X, Y):\n",
    "        output = predict(xi)\n",
    "        delta = eta * (target - output)\n",
    "\n",
    "        w[1:] += delta * xi\n",
    "        w[0] += delta\n",
    "        print(w)\n",
    "        err += int(delta != 0.0)\n",
    "    errors.append(err)\n",
    "\n",
    "    print(\"-\"*20)\n",
    "\n",
    "for x in X:\n",
    "    print(x, \" : \", predict(x))"
   ],
   "metadata": {
    "collapsed": false,
    "pycharm": {
     "name": "#%%\n"
    }
   }
  },
  {
   "cell_type": "code",
   "execution_count": null,
   "outputs": [],
   "source": [],
   "metadata": {
    "collapsed": false,
    "pycharm": {
     "name": "#%%\n"
    }
   }
  }
 ],
 "metadata": {
  "kernelspec": {
   "display_name": "Python 3",
   "language": "python",
   "name": "python3"
  },
  "language_info": {
   "codemirror_mode": {
    "name": "ipython",
    "version": 2
   },
   "file_extension": ".py",
   "mimetype": "text/x-python",
   "name": "python",
   "nbconvert_exporter": "python",
   "pygments_lexer": "ipython2",
   "version": "2.7.6"
  }
 },
 "nbformat": 4,
 "nbformat_minor": 0
}